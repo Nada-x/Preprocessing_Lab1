{
 "cells": [
  {
   "cell_type": "markdown",
   "metadata": {},
   "source": [
    "# Import software libraries"
   ]
  },
  {
   "cell_type": "code",
   "execution_count": null,
   "metadata": {
    "colab": {
     "base_uri": "https://localhost:8080/"
    },
    "executionInfo": {
     "elapsed": 1915,
     "status": "ok",
     "timestamp": 1615828533278,
     "user": {
      "displayName": "Sarah Haq",
      "photoUrl": "https://lh3.googleusercontent.com/a-/AOh14Gh7vs3P5_F3LYi7bEV8r1vbltDxEgpoYXmxHgxGBw=s64",
      "userId": "16294508270436203551"
     },
     "user_tz": -60
    },
    "id": "Pqp9xk3JuBkG",
    "outputId": "634d20c9-ed70-46a0-fa87-15181e42c889"
   },
   "outputs": [],
   "source": []
  },
  {
   "cell_type": "markdown",
   "metadata": {
    "id": "D3Uw9bpYzvGB"
   },
   "source": [
    "# Load and preview the data"
   ]
  },
  {
   "cell_type": "code",
   "execution_count": null,
   "metadata": {
    "executionInfo": {
     "elapsed": 1138,
     "status": "ok",
     "timestamp": 1615828555862,
     "user": {
      "displayName": "Sarah Haq",
      "photoUrl": "https://lh3.googleusercontent.com/a-/AOh14Gh7vs3P5_F3LYi7bEV8r1vbltDxEgpoYXmxHgxGBw=s64",
      "userId": "16294508270436203551"
     },
     "user_tz": -60
    },
    "id": "V3N6z-E6zxRv"
   },
   "outputs": [],
   "source": []
  },
  {
   "cell_type": "markdown",
   "metadata": {},
   "source": [
    "# Check the shape of the data"
   ]
  },
  {
   "cell_type": "code",
   "execution_count": null,
   "metadata": {
    "colab": {
     "base_uri": "https://localhost:8080/"
    },
    "executionInfo": {
     "elapsed": 928,
     "status": "ok",
     "timestamp": 1615828556894,
     "user": {
      "displayName": "Sarah Haq",
      "photoUrl": "https://lh3.googleusercontent.com/a-/AOh14Gh7vs3P5_F3LYi7bEV8r1vbltDxEgpoYXmxHgxGBw=s64",
      "userId": "16294508270436203551"
     },
     "user_tz": -60
    },
    "id": "0qOIW8i7_6lm",
    "outputId": "cadb1082-a2ab-45a4-e946-eb6a50577e80"
   },
   "outputs": [],
   "source": []
  },
  {
   "cell_type": "markdown",
   "metadata": {},
   "source": [
    "# Check the data types"
   ]
  },
  {
   "cell_type": "code",
   "execution_count": null,
   "metadata": {
    "colab": {
     "base_uri": "https://localhost:8080/"
    },
    "executionInfo": {
     "elapsed": 659,
     "status": "ok",
     "timestamp": 1615828556894,
     "user": {
      "displayName": "Sarah Haq",
      "photoUrl": "https://lh3.googleusercontent.com/a-/AOh14Gh7vs3P5_F3LYi7bEV8r1vbltDxEgpoYXmxHgxGBw=s64",
      "userId": "16294508270436203551"
     },
     "user_tz": -60
    },
    "id": "hjaImkCC_Y6o",
    "outputId": "84a7a29d-c8cc-4ae6-d1b4-bdd86f9e1544"
   },
   "outputs": [],
   "source": []
  },
  {
   "cell_type": "markdown",
   "metadata": {
    "id": "KzWy1_hSzdT2"
   },
   "source": [
    "# Explore the distribution of the target variable\n",
    "\n",
    "- You need to plot the distribution of the target column (term_deposit) and explain what is the problem of the distribution."
   ]
  },
  {
   "cell_type": "code",
   "execution_count": null,
   "metadata": {
    "colab": {
     "base_uri": "https://localhost:8080/"
    },
    "executionInfo": {
     "elapsed": 555,
     "status": "ok",
     "timestamp": 1615828557315,
     "user": {
      "displayName": "Sarah Haq",
      "photoUrl": "https://lh3.googleusercontent.com/a-/AOh14Gh7vs3P5_F3LYi7bEV8r1vbltDxEgpoYXmxHgxGBw=s64",
      "userId": "16294508270436203551"
     },
     "user_tz": -60
    },
    "id": "V-aKzuX7_mN8",
    "outputId": "74e20eb9-12b1-4546-83eb-d93ed09a59c7"
   },
   "outputs": [],
   "source": []
  },
  {
   "cell_type": "markdown",
   "metadata": {},
   "source": [
    "# Apply oversampling or SMOTE to the target label"
   ]
  },
  {
   "cell_type": "code",
   "execution_count": null,
   "metadata": {
    "colab": {
     "base_uri": "https://localhost:8080/"
    },
    "executionInfo": {
     "elapsed": 378,
     "status": "ok",
     "timestamp": 1615828561544,
     "user": {
      "displayName": "Sarah Haq",
      "photoUrl": "https://lh3.googleusercontent.com/a-/AOh14Gh7vs3P5_F3LYi7bEV8r1vbltDxEgpoYXmxHgxGBw=s64",
      "userId": "16294508270436203551"
     },
     "user_tz": -60
    },
    "id": "EFXAnHsE1__U",
    "outputId": "69d7d72a-9979-4289-a150-ae75309d1a8c"
   },
   "outputs": [],
   "source": []
  },
  {
   "cell_type": "markdown",
   "metadata": {
    "id": "srJBAQTmZ5GY"
   },
   "source": [
    "# Normalize the data"
   ]
  },
  {
   "cell_type": "code",
   "execution_count": null,
   "metadata": {
    "executionInfo": {
     "elapsed": 472,
     "status": "ok",
     "timestamp": 1615828585952,
     "user": {
      "displayName": "Sarah Haq",
      "photoUrl": "https://lh3.googleusercontent.com/a-/AOh14Gh7vs3P5_F3LYi7bEV8r1vbltDxEgpoYXmxHgxGBw=s64",
      "userId": "16294508270436203551"
     },
     "user_tz": -60
    },
    "id": "iJt8hr5xZIGn"
   },
   "outputs": [],
   "source": []
  },
  {
   "cell_type": "markdown",
   "metadata": {
    "id": "DVx4jRd9gRgd"
   },
   "source": [
    "# Standardlize the data"
   ]
  },
  {
   "cell_type": "code",
   "execution_count": null,
   "metadata": {
    "executionInfo": {
     "elapsed": 471,
     "status": "ok",
     "timestamp": 1615829407284,
     "user": {
      "displayName": "Sarah Haq",
      "photoUrl": "https://lh3.googleusercontent.com/a-/AOh14Gh7vs3P5_F3LYi7bEV8r1vbltDxEgpoYXmxHgxGBw=s64",
      "userId": "16294508270436203551"
     },
     "user_tz": -60
    },
    "id": "ekWkr9qEy_xT"
   },
   "outputs": [],
   "source": []
  },
  {
   "cell_type": "markdown",
   "metadata": {},
   "source": [
    "# Plot the PCA"
   ]
  },
  {
   "cell_type": "code",
   "execution_count": null,
   "metadata": {},
   "outputs": [],
   "source": []
  }
 ],
 "metadata": {
  "colab": {
   "authorship_tag": "ABX9TyOYq6vKgNXq5e3uriRKQJRf",
   "collapsed_sections": [],
   "name": "03-Classification-Models.ipynb",
   "provenance": [],
   "toc_visible": true
  },
  "kernelspec": {
   "display_name": "Python 3 (ipykernel)",
   "language": "python",
   "name": "python3"
  },
  "language_info": {
   "codemirror_mode": {
    "name": "ipython",
    "version": 3
   },
   "file_extension": ".py",
   "mimetype": "text/x-python",
   "name": "python",
   "nbconvert_exporter": "python",
   "pygments_lexer": "ipython3",
   "version": "3.9.12"
  }
 },
 "nbformat": 4,
 "nbformat_minor": 1
}
